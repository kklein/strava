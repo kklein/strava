{
 "cells": [
  {
   "cell_type": "code",
   "execution_count": null,
   "id": "ebd1fd6c-89be-4df3-a9bc-c3c5249f95b5",
   "metadata": {},
   "outputs": [],
   "source": [
    "import datetime\n",
    "import pandas as pd\n",
    "import matplotlib.pyplot as plt"
   ]
  },
  {
   "cell_type": "code",
   "execution_count": null,
   "id": "d50dd705-0216-48e3-9774-af1865d6d836",
   "metadata": {},
   "outputs": [],
   "source": [
    "df = pd.read_pickle(\"strava_data.pickle\")"
   ]
  },
  {
   "cell_type": "code",
   "execution_count": null,
   "id": "7ad88e11-12f3-476b-a6e1-9b7f50336335",
   "metadata": {},
   "outputs": [],
   "source": [
    "df['start_date_local'] = pd.to_datetime(df['start_date_local']).dt.date"
   ]
  },
  {
   "cell_type": "code",
   "execution_count": null,
   "id": "bc1550c5-5479-4c53-a786-eb19b1cb8ff1",
   "metadata": {},
   "outputs": [],
   "source": [
    "runs = df.loc[df['type'] == 'Run']"
   ]
  },
  {
   "cell_type": "code",
   "execution_count": null,
   "id": "b90fda81",
   "metadata": {},
   "outputs": [],
   "source": [
    "def speed_to_pace(x):\n",
    "    # First, convert m/s to km/min\n",
    "    x = x * (60/1000)\n",
    "    # Second, convert km/min to min/km.\n",
    "    x = 1 / x\n",
    "    return x"
   ]
  },
  {
   "cell_type": "code",
   "execution_count": null,
   "id": "2a03f66d-4dc7-4479-bba8-a92d49c8a39d",
   "metadata": {},
   "outputs": [],
   "source": [
    "# Create pace from speed.\n",
    "runs.loc[:, 'average_pace'] = speed_to_pace(runs['average_speed'])\n",
    "runs.loc[:, 'max_pace'] = speed_to_pace(runs['max_speed'])\n",
    "runs.loc[:, 'hr_ratio'] = runs['average_heartrate'] / runs['average_pace']\n",
    "# Partition runs into different pace clusters.\n",
    "runs.loc[:, 'pace_cat'] = pd.qcut(runs['average_pace'], 4, labels=False)"
   ]
  },
  {
   "cell_type": "code",
   "execution_count": null,
   "id": "b11c73d3-18da-48ac-b445-523ea29f9dd3",
   "metadata": {},
   "outputs": [],
   "source": [
    "runs"
   ]
  },
  {
   "cell_type": "code",
   "execution_count": null,
   "id": "db53554f-fe2b-4315-9b4e-50fcf4123077",
   "metadata": {},
   "outputs": [],
   "source": [
    "runs.plot(x='start_date_local', y='average_heartrate', style='.')"
   ]
  },
  {
   "cell_type": "code",
   "execution_count": null,
   "id": "d0e3278c-c01b-41d6-b108-646cd100d390",
   "metadata": {},
   "outputs": [],
   "source": [
    "runs.plot(x='start_date_local', y='max_heartrate', style='.')"
   ]
  },
  {
   "cell_type": "code",
   "execution_count": null,
   "id": "ec7965bd-2093-4f58-9d58-67cfc159c1e7",
   "metadata": {},
   "outputs": [],
   "source": [
    "runs.plot(x='start_date_local', y='hr_ratio', style='.')"
   ]
  },
  {
   "cell_type": "code",
   "execution_count": null,
   "id": "e002018e-f857-4a3f-b854-6ac37fbd67bb",
   "metadata": {},
   "outputs": [],
   "source": [
    "fig, ax = plt.subplots()\n",
    "for key, grp in runs.groupby(['pace_cat']):\n",
    "    ax = grp.plot(ax=ax, kind='line', x='start_date_local', y='average_heartrate', label=key, style='.')"
   ]
  },
  {
   "cell_type": "markdown",
   "id": "57fc636b",
   "metadata": {},
   "source": [
    "## Compile plots into single plot"
   ]
  },
  {
   "cell_type": "code",
   "execution_count": null,
   "id": "7617f50f",
   "metadata": {},
   "outputs": [],
   "source": [
    "plt.rcParams.update({'font.size': 14})\n",
    "\n",
    "fig, axs = plt.subplots(3, 1, figsize=(10,15))\n",
    "fig.tight_layout(pad=3)\n",
    "\n",
    "runs.plot(x='start_date_local', y='average_heartrate', style='.', ax=axs[0])\n",
    "axs[0].set_title(\"Average heart rate per run\")\n",
    "\n",
    "runs.plot(x='start_date_local', y='max_heartrate', style='.', ax=axs[1])\n",
    "axs[1].set_title(\"Max heart rate per run\")\n",
    "\n",
    "runs.plot(x='start_date_local', y='hr_ratio', style='.', ax=axs[2])\n",
    "axs[2].set_title(\"Average heart rate/pace per run\")\n",
    "\n",
    "for ax in axs:\n",
    "    ax.set_xlabel(\"run date\")\n",
    "    ax.set_ylabel(\"Heart rate [bpm]\")\n",
    "    \n",
    "axs[2].set_ylabel(\"Heart rate/pace [bpm * km / min]\")\n",
    "fig.savefig(\"2021_heart_rates.png\")"
   ]
  }
 ],
 "metadata": {
  "kernelspec": {
   "display_name": "Python 3 (ipykernel)",
   "language": "python",
   "name": "python3"
  },
  "language_info": {
   "codemirror_mode": {
    "name": "ipython",
    "version": 3
   },
   "file_extension": ".py",
   "mimetype": "text/x-python",
   "name": "python",
   "nbconvert_exporter": "python",
   "pygments_lexer": "ipython3",
   "version": "3.10.1"
  }
 },
 "nbformat": 4,
 "nbformat_minor": 5
}
